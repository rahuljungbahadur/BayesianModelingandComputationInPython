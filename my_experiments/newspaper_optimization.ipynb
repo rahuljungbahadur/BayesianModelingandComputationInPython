{
 "cells": [
  {
   "cell_type": "code",
   "execution_count": 4,
   "metadata": {},
   "outputs": [],
   "source": [
    "import matplotlib.pyplot as plt\r\n",
    "from scipy import stats, optimize\r\n",
    "import numpy as np\r\n",
    "import pandas as pd\r\n",
    "np.set_printoptions(precision=2, floatmode=\"fixed\")"
   ]
  },
  {
   "cell_type": "markdown",
   "metadata": {},
   "source": [
    "# An example: Making decisions as newspaper vendor\r\n",
    "\r\n",
    "1. Anisha is starting her new enterprise\r\n",
    "2. She buys them wholesale for 5 dollars and sells them for 7 dollars.\r\n",
    "3. Newspapers only last one day, they become worthless the next day.\r\n",
    "4. Each morning she must make a choice of how many to purchase.\r\n",
    "5. If she buys too little she loses an opportunity to sell, if she buys too many she wastes money on unsold papers.\r\n",
    "\r\n",
    "## How many should she purchase in the morning to maximize her profit?"
   ]
  },
  {
   "cell_type": "code",
   "execution_count": 8,
   "metadata": {},
   "outputs": [],
   "source": [
    "purchase = 5\r\n",
    "sell = 7\r\n",
    "demand = 40\r\n"
   ]
  },
  {
   "cell_type": "code",
   "execution_count": 83,
   "metadata": {},
   "outputs": [],
   "source": [
    "def get_income(inventory, demand, paper_cost=5, paper_sp=7):\r\n",
    "    # paper_cost = np.array(paper_cost)\r\n",
    "    # paper_sp = np.array(paper_sp)\r\n",
    "    # demand = np.array(demand)\r\n",
    "    # inventory = np.array(inventory)\r\n",
    "\r\n",
    "    obj_min = (paper_sp * np.min([demand, inventory]) -\r\n",
    "                (paper_cost * inventory))\r\n",
    "\r\n",
    "    # print(f\"income is {obj_min}\")\r\n",
    "\r\n",
    "    return obj_min\r\n"
   ]
  },
  {
   "cell_type": "code",
   "execution_count": 84,
   "metadata": {},
   "outputs": [],
   "source": [
    "def daily_profit(inventory, demand, paper_cost=5, paper_sp = 7):\r\n",
    "    \"\"\"Calculates profit for a given day given inventory and demand\"\"\"\r\n",
    "    return paper_sp*np.min([inventory, demand]) - paper_cost*inventory"
   ]
  },
  {
   "cell_type": "code",
   "execution_count": 85,
   "metadata": {},
   "outputs": [
    {
     "data": {
      "text/plain": "84"
     },
     "execution_count": 85,
     "metadata": {},
     "output_type": "execute_result"
    }
   ],
   "source": [
    "daily_profit(demand=42, inventory=42)"
   ]
  },
  {
   "cell_type": "markdown",
   "metadata": {},
   "source": [
    "## Plot of income vs demand"
   ]
  },
  {
   "cell_type": "markdown",
   "metadata": {},
   "source": [
    "### For varying demand"
   ]
  },
  {
   "cell_type": "code",
   "execution_count": 86,
   "metadata": {},
   "outputs": [],
   "source": [
    "demands = np.linspace(start = 0, stop = 100)\r\n",
    "incomes = [daily_profit(demand=dem, inventory=42) for dem in demands]"
   ]
  },
  {
   "cell_type": "code",
   "execution_count": 87,
   "metadata": {},
   "outputs": [
    {
     "data": {
      "text/plain": "[<matplotlib.lines.Line2D at 0x205a130c970>]"
     },
     "execution_count": 87,
     "metadata": {},
     "output_type": "execute_result"
    },
    {
     "data": {
      "image/png": "[encoded data removed]",
      "text/plain": "<Figure size 432x288 with 1 Axes>"
     },
     "metadata": {
      "needs_background": "light"
     },
     "output_type": "display_data"
    }
   ],
   "source": [
    "plt.plot(demands, income)"
   ]
  },
  {
   "cell_type": "markdown",
   "metadata": {},
   "source": [
    "### For varying inventory"
   ]
  },
  {
   "cell_type": "code",
   "execution_count": 88,
   "metadata": {},
   "outputs": [],
   "source": [
    "invs = np.linspace(start = 0, stop = 100)\r\n",
    "incomes = [daily_profit(demand=40, inventory=inv) for inv in invs]"
   ]
  },
  {
   "cell_type": "code",
   "execution_count": 62,
   "metadata": {},
   "outputs": [
    {
     "data": {
      "text/plain": "[<matplotlib.lines.Line2D at 0x205a0454400>]"
     },
     "execution_count": 62,
     "metadata": {},
     "output_type": "execute_result"
    },
    {
     "data": {
      "image/png": "[encoded data removed]",
      "text/plain": "<Figure size 432x288 with 1 Axes>"
     },
     "metadata": {
      "needs_background": "light"
     },
     "output_type": "display_data"
    }
   ],
   "source": [
    "plt.plot(invs, incomes)"
   ]
  },
  {
   "cell_type": "markdown",
   "metadata": {},
   "source": [
    "# Objective function"
   ]
  },
  {
   "cell_type": "code",
   "execution_count": 92,
   "metadata": {},
   "outputs": [],
   "source": [
    "def objective(inventory: int, demands: iter):\r\n",
    "    \"\"\"Takes an iterable of demand values and returns the total profit\"\"\"\r\n",
    "    objective_function_value =  -np.sum([daily_profit(inventory, d) for d in demands])\r\n",
    "    print(f\"Inventory value {inventory} with demands array {demands} yields Objective Value {objective_function_value}\")\r\n",
    "    # Make reward function negative to turn this into a minimization problem\r\n",
    "    return objective_function_value"
   ]
  },
  {
   "cell_type": "code",
   "execution_count": 99,
   "metadata": {},
   "outputs": [
    {
     "name": "stdout",
     "output_type": "stream",
     "text": [
      "Inventory value 40 with demands array [98] yields Objective Value -80\n"
     ]
    },
    {
     "data": {
      "text/plain": "-80"
     },
     "execution_count": 99,
     "metadata": {},
     "output_type": "execute_result"
    }
   ],
   "source": [
    "objective(demands=[98], inventory=40)#, paper_cost=5, paper_sp=7)\r\n"
   ]
  },
  {
   "cell_type": "markdown",
   "metadata": {},
   "source": [
    "## Stochastic optimization"
   ]
  },
  {
   "cell_type": "code",
   "execution_count": 96,
   "metadata": {},
   "outputs": [
    {
     "name": "stdout",
     "output_type": "stream",
     "text": [
      "Inventory value 0.0 with demands array [40, 40] yields Objective Value -0.0\n",
      "Inventory value 1.0 with demands array [40, 40] yields Objective Value -4.0\n",
      "Inventory value 2.6180339999999998 with demands array [40, 40] yields Objective Value -10.472135999999995\n",
      "Inventory value 178.98373999999998 with demands array [40, 40] yields Objective Value 1229.8374\n",
      "Inventory value 2.6180339999999998 with demands array [40, 40] yields Objective Value -10.472135999999995\n",
      "Inventory value 69.983737257996 with demands array [40, 40] yields Objective Value 139.83737257995995\n",
      "Inventory value 28.3494422106437 with demands array [40, 40] yields Objective Value -113.3977688425748\n",
      "Inventory value 28.84680861337978 with demands array [40, 40] yields Objective Value -115.38723445351911\n",
      "Inventory value 44.55971670004926 with demands array [40, 40] yields Objective Value -114.40283299950744\n",
      "Inventory value 36.578275115766075 with demands array [40, 40] yields Objective Value -146.3131004630643\n",
      "Inventory value 36.641722628043496 with demands array [40, 40] yields Objective Value -146.56689051217393\n",
      "Inventory value 39.66612715175125 with demands array [40, 40] yields Objective Value -158.66450860700496\n",
      "Inventory value 41.53531197715645 with demands array [40, 40] yields Objective Value -144.64688022843552\n",
      "Inventory value 38.510907453448695 with demands array [40, 40] yields Objective Value -154.04362981379484\n",
      "Inventory value 40.38009220277197 with demands array [40, 40] yields Objective Value -156.1990779722803\n",
      "Inventory value 39.5900995785339 with demands array [40, 40] yields Objective Value -158.36039831413558\n",
      "Inventory value 39.8401022006923 with demands array [40, 40] yields Objective Value -159.36040880276926\n",
      "Inventory value 40.046360021826665 with demands array [40, 40] yields Objective Value -159.53639978173334\n",
      "Inventory value 39.99478226645297 with demands array [40, 40] yields Objective Value -159.97912906581195\n",
      "Inventory value 39.95022391246385 with demands array [40, 40] yields Objective Value -159.80089564985536\n",
      "Inventory value 39.98778252492249 with demands array [40, 40] yields Objective Value -159.95113009968998\n",
      "Inventory value 40.01448321536204 with demands array [40, 40] yields Objective Value -159.85516784637957\n",
      "Inventory value 39.996470952875555 with demands array [40, 40] yields Objective Value -159.98588381150228\n",
      "Inventory value 40.00335102472847 with demands array [40, 40] yields Objective Value -159.96648975271535\n",
      "Inventory value 39.998139856779595 with demands array [40, 40] yields Objective Value -159.9925594271184\n",
      "Inventory value 40.000130345756354 with demands array [40, 40] yields Objective Value -159.99869654243645\n",
      "Inventory value 40.00136053562061 with demands array [40, 40] yields Objective Value -159.98639464379386\n",
      "Inventory value 39.99951459734335 with demands array [40, 40] yields Objective Value -159.99805838937334\n",
      "Inventory value 40.00017051198838 with demands array [40, 40] yields Objective Value -159.9982948801162\n",
      "Inventory value 39.999853268804614 with demands array [40, 40] yields Objective Value -159.9994130752185\n",
      "Inventory value 39.99972390782124 with demands array [40, 40] yields Objective Value -159.99889563128494\n",
      "Inventory value 39.99991201233672 with demands array [40, 40] yields Objective Value -159.9996480493469\n",
      "Inventory value 39.99999540827969 with demands array [40, 40] yields Objective Value -159.99998163311875\n",
      "Inventory value 40.0000469498079 with demands array [40, 40] yields Objective Value -159.99953050192096\n",
      "Inventory value 39.99997487237099 with demands array [40, 40] yields Objective Value -159.99989948948394\n",
      "Inventory value 40.000015095391056 with demands array [40, 40] yields Objective Value -159.99984904608942\n",
      "Inventory value 39.99999263433529 with demands array [40, 40] yields Objective Value -159.9999705373412\n",
      "Inventory value 40.00000292808687 with demands array [40, 40] yields Objective Value -159.99997071913128\n",
      "Inventory value 39.999997797884895 with demands array [40, 40] yields Objective Value -159.9999911915396\n",
      "Inventory value 39.9999984852537 with demands array [40, 40] yields Objective Value -159.99999394101485\n",
      "Inventory value 40.00000018226491 with demands array [40, 40] yields Objective Value -159.9999981773509\n",
      "Inventory value 40.00000131302801 with demands array [40, 40] yields Objective Value -159.99998686971992\n",
      "Inventory value 39.99999953406433 with demands array [40, 40] yields Objective Value -159.99999813625732\n"
     ]
    },
    {
     "data": {
      "text/plain": "     fun: -159.9999981773509\n message: '\\nOptimization terminated successfully;\\nThe returned value satisfies the termination criteria\\n(using xtol = 1.48e-08 )'\n    nfev: 43\n     nit: 38\n success: True\n       x: 40.00000018226491"
     },
     "execution_count": 96,
     "metadata": {},
     "output_type": "execute_result"
    }
   ],
   "source": [
    "# Let scipy find minimie objective function (negative profit) if demands is set to 40\r\n",
    "opt_stoch = optimize.minimize_scalar(objective, bounds=(0, np.inf), args=([40, 40]))\r\n",
    "opt_stoch"
   ]
  },
  {
   "cell_type": "code",
   "execution_count": null,
   "metadata": {},
   "outputs": [],
   "source": []
  }
 ],
 "metadata": {
  "kernelspec": {
   "display_name": "Python 3.9.6 64-bit ('bmcp': conda)",
   "name": "python396jvsc74a57bd0b09254dc82d38c7fd67c3708566abed70547d983ebcb1991a2ac4c9afef20036"
  },
  "language_info": {
   "codemirror_mode": {
    "name": "ipython",
    "version": 3
   },
   "file_extension": ".py",
   "mimetype": "text/x-python",
   "name": "python",
   "nbconvert_exporter": "python",
   "pygments_lexer": "ipython3",
   "version": "3.9.6"
  },
  "metadata": {
   "interpreter": {
    "hash": "b09254dc82d38c7fd67c3708566abed70547d983ebcb1991a2ac4c9afef20036"
   }
  },
  "orig_nbformat": 2
 },
 "nbformat": 4,
 "nbformat_minor": 2
}